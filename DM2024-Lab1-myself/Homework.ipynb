{
 "cells": [
  {
   "cell_type": "markdown",
   "id": "8657eb0c-7ecc-455b-a54b-513c7d19e35d",
   "metadata": {},
   "source": [
    "### 1. Data Preparation"
   ]
  },
  {
   "cell_type": "code",
   "execution_count": 1,
   "id": "25c3f116-5064-46ab-8c4c-5863fada8e52",
   "metadata": {},
   "outputs": [],
   "source": [
    "# sentiment\n",
    "categories = ['not nostalgia', 'nostalgia']"
   ]
  },
  {
   "cell_type": "code",
   "execution_count": 2,
   "id": "729768f0-3620-478d-8482-e36283fea80a",
   "metadata": {},
   "outputs": [],
   "source": [
    "import pandas as pd\n",
    "\n",
    "df = pd.read_csv(\"hf://datasets/Senem/Nostalgic_Sentiment_Analysis_of_YouTube_Comments_Data/Nostalgic_Sentiment_Analysis_of_YouTube_Comments_Data.csv\")"
   ]
  },
  {
   "cell_type": "code",
   "execution_count": 3,
   "id": "8ff6dd45-eacf-4600-8ed3-ef98f8022714",
   "metadata": {},
   "outputs": [
    {
     "name": "stdout",
     "output_type": "stream",
     "text": [
      "          sentiment                                            comment\n",
      "0     not nostalgia  He was a singer with a golden voice that I lov...\n",
      "1         nostalgia  The mist beautiful voice ever I listened to hi...\n",
      "2         nostalgia  I have most of Mr. Reeves songs.  Always love ...\n",
      "3     not nostalgia  30 day leave from 1st tour in Viet Nam to conv...\n",
      "4         nostalgia  listening to his songs reminds me of my mum wh...\n",
      "...             ...                                                ...\n",
      "1495  not nostalgia  i don't know!..but the opening of the video,.....\n",
      "1496  not nostalgia  it's sad this is such a beautiful song when yo...\n",
      "1497  not nostalgia  Dear Friend, I think age and time is not that ...\n",
      "1498      nostalgia  I was born in 1954 and started to be aware of ...\n",
      "1499      nostalgia  This is the first CD I bought after my marriag...\n",
      "\n",
      "[1500 rows x 2 columns]\n"
     ]
    }
   ],
   "source": [
    "print(df)"
   ]
  },
  {
   "cell_type": "code",
   "execution_count": 4,
   "id": "0a25686c-d990-4bcc-a13c-8f5c561e05d9",
   "metadata": {},
   "outputs": [
    {
     "name": "stdout",
     "output_type": "stream",
     "text": [
      "          sentiment                                            comment\n",
      "0     not nostalgia  He was a singer with a golden voice that I lov...\n",
      "1         nostalgia  The mist beautiful voice ever I listened to hi...\n",
      "2         nostalgia  I have most of Mr. Reeves songs.  Always love ...\n",
      "3     not nostalgia  30 day leave from 1st tour in Viet Nam to conv...\n",
      "4         nostalgia  listening to his songs reminds me of my mum wh...\n",
      "...             ...                                                ...\n",
      "1495  not nostalgia  i don't know!..but the opening of the video,.....\n",
      "1496  not nostalgia  it's sad this is such a beautiful song when yo...\n",
      "1497  not nostalgia  Dear Friend, I think age and time is not that ...\n",
      "1498      nostalgia  I was born in 1954 and started to be aware of ...\n",
      "1499      nostalgia  This is the first CD I bought after my marriag...\n",
      "\n",
      "[1500 rows x 2 columns]\n"
     ]
    }
   ],
   "source": [
    "# my functions\n",
    "import helpers_homework.data_mining_helpers as dmh\n",
    "\n",
    "# construct dataframe from a list\n",
    "X = pd.DataFrame(dmh.format_rows(df), columns=['sentiment', 'comment'])\n",
    "\n",
    "# 檢查格式化後的數據\n",
    "print(X)"
   ]
  },
  {
   "cell_type": "code",
   "execution_count": 5,
   "id": "b8f1c97a-0e47-4a52-b286-f4a6984926d0",
   "metadata": {},
   "outputs": [
    {
     "data": {
      "text/html": [
       "<div>\n",
       "<style scoped>\n",
       "    .dataframe tbody tr th:only-of-type {\n",
       "        vertical-align: middle;\n",
       "    }\n",
       "\n",
       "    .dataframe tbody tr th {\n",
       "        vertical-align: top;\n",
       "    }\n",
       "\n",
       "    .dataframe thead th {\n",
       "        text-align: right;\n",
       "    }\n",
       "</style>\n",
       "<table border=\"1\" class=\"dataframe\">\n",
       "  <thead>\n",
       "    <tr style=\"text-align: right;\">\n",
       "      <th></th>\n",
       "      <th>sentiment</th>\n",
       "      <th>comment</th>\n",
       "    </tr>\n",
       "  </thead>\n",
       "  <tbody>\n",
       "    <tr>\n",
       "      <th>0</th>\n",
       "      <td>not nostalgia</td>\n",
       "      <td>He was a singer with a golden voice that I lov...</td>\n",
       "    </tr>\n",
       "    <tr>\n",
       "      <th>1</th>\n",
       "      <td>nostalgia</td>\n",
       "      <td>The mist beautiful voice ever I listened to hi...</td>\n",
       "    </tr>\n",
       "    <tr>\n",
       "      <th>2</th>\n",
       "      <td>nostalgia</td>\n",
       "      <td>I have most of Mr. Reeves songs.  Always love ...</td>\n",
       "    </tr>\n",
       "    <tr>\n",
       "      <th>3</th>\n",
       "      <td>not nostalgia</td>\n",
       "      <td>30 day leave from 1st tour in Viet Nam to conv...</td>\n",
       "    </tr>\n",
       "    <tr>\n",
       "      <th>4</th>\n",
       "      <td>nostalgia</td>\n",
       "      <td>listening to his songs reminds me of my mum wh...</td>\n",
       "    </tr>\n",
       "    <tr>\n",
       "      <th>5</th>\n",
       "      <td>nostalgia</td>\n",
       "      <td>Every time I heard this song as a child, I use...</td>\n",
       "    </tr>\n",
       "    <tr>\n",
       "      <th>6</th>\n",
       "      <td>nostalgia</td>\n",
       "      <td>My dad loved listening to Jim Reeves, when I w...</td>\n",
       "    </tr>\n",
       "    <tr>\n",
       "      <th>7</th>\n",
       "      <td>nostalgia</td>\n",
       "      <td>i HAVE ALSO LISTENED TO Jim Reeves since child...</td>\n",
       "    </tr>\n",
       "    <tr>\n",
       "      <th>8</th>\n",
       "      <td>not nostalgia</td>\n",
       "      <td>Wherever you  are you always in my heart</td>\n",
       "    </tr>\n",
       "    <tr>\n",
       "      <th>9</th>\n",
       "      <td>not nostalgia</td>\n",
       "      <td>Elvis will always be number one no one can com...</td>\n",
       "    </tr>\n",
       "  </tbody>\n",
       "</table>\n",
       "</div>"
      ],
      "text/plain": [
       "       sentiment                                            comment\n",
       "0  not nostalgia  He was a singer with a golden voice that I lov...\n",
       "1      nostalgia  The mist beautiful voice ever I listened to hi...\n",
       "2      nostalgia  I have most of Mr. Reeves songs.  Always love ...\n",
       "3  not nostalgia  30 day leave from 1st tour in Viet Nam to conv...\n",
       "4      nostalgia  listening to his songs reminds me of my mum wh...\n",
       "5      nostalgia  Every time I heard this song as a child, I use...\n",
       "6      nostalgia  My dad loved listening to Jim Reeves, when I w...\n",
       "7      nostalgia  i HAVE ALSO LISTENED TO Jim Reeves since child...\n",
       "8  not nostalgia           Wherever you  are you always in my heart\n",
       "9  not nostalgia  Elvis will always be number one no one can com..."
      ]
     },
     "execution_count": 5,
     "metadata": {},
     "output_type": "execute_result"
    }
   ],
   "source": [
    "X[0:10]"
   ]
  },
  {
   "cell_type": "code",
   "execution_count": null,
   "id": "83875481-4ee4-43a3-b2ea-8f130f794988",
   "metadata": {},
   "outputs": [],
   "source": []
  }
 ],
 "metadata": {
  "kernelspec": {
   "display_name": "Python 3 (ipykernel)",
   "language": "python",
   "name": "python3"
  },
  "language_info": {
   "codemirror_mode": {
    "name": "ipython",
    "version": 3
   },
   "file_extension": ".py",
   "mimetype": "text/x-python",
   "name": "python",
   "nbconvert_exporter": "python",
   "pygments_lexer": "ipython3",
   "version": "3.12.7"
  }
 },
 "nbformat": 4,
 "nbformat_minor": 5
}
